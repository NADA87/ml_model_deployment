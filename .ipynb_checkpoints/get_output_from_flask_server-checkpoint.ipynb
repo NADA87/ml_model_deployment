{
 "cells": [
  {
   "cell_type": "code",
   "execution_count": 7,
   "id": "e54b25f6",
   "metadata": {},
   "outputs": [],
   "source": [
    "from joblib import load\n",
    "from flask import Flask, request, jsonify\n",
    "import json\n",
    "import requests"
   ]
  },
  {
   "cell_type": "code",
   "execution_count": 8,
   "id": "5a524d47",
   "metadata": {},
   "outputs": [],
   "source": [
    "data = { 'data' : \n",
    "             [16.5, 18.29, 106.6, 838.1, 0.09686, 0.08468, 0.05862, 0.04835, 0.1495, \n",
    "              0.05593, 0.3389, 1.439, 2.344, 33.58, 0.007257, 0.01805, 0.01832,\n",
    "              0.01033, 0.01694, 0.002001, 18.13, 25.45, 117.2, 1009.0, 0.1338, \n",
    "              0.1679, 0.1663, 0.09123, 0.2394, 0.06469]\n",
    "             }"
   ]
  },
  {
   "cell_type": "code",
   "execution_count": 18,
   "id": "ffc35c6d",
   "metadata": {},
   "outputs": [
    {
     "name": "stdout",
     "output_type": "stream",
     "text": [
      "{'output': {'cancer_type': 'Benign'}}\n"
     ]
    }
   ],
   "source": [
    "s = json.dumps(data)\n",
    "r = requests.post(\"http://0.0.0.0:3000/predict\", json=s)\n",
    "print(r.json())\n"
   ]
  },
  {
   "cell_type": "markdown",
   "id": "05e24b25",
   "metadata": {},
   "source": [
    "# DUMP"
   ]
  },
  {
   "cell_type": "code",
   "execution_count": 14,
   "id": "91533781",
   "metadata": {},
   "outputs": [],
   "source": [
    "# input_data = data['data']\n",
    "# prediction = load('breast_cancer_prediction_model.joblib').predict([input_data])[0]\n",
    "# if prediction==1: prediction =  'Melignant'\n",
    "# else: prediction =  'Benign'\n",
    "# {'output':{'cancer_type':prediction}}\n"
   ]
  },
  {
   "cell_type": "code",
   "execution_count": 15,
   "id": "61338caa",
   "metadata": {},
   "outputs": [],
   "source": [
    "# input_data = data['data']\n",
    "# prediction = load('breast_cancer_prediction_model.joblib').predict([input_data])\n",
    "# if prediction[0] == 1.0:\n",
    "#     cancer_type = 'Malignant'\n",
    "# else:\n",
    "#     cancer_type = 'Benign'\n",
    "# cancer_type  "
   ]
  }
 ],
 "metadata": {
  "kernelspec": {
   "display_name": "Python 3",
   "language": "python",
   "name": "python3"
  },
  "language_info": {
   "codemirror_mode": {
    "name": "ipython",
    "version": 3
   },
   "file_extension": ".py",
   "mimetype": "text/x-python",
   "name": "python",
   "nbconvert_exporter": "python",
   "pygments_lexer": "ipython3",
   "version": "3.8.8"
  }
 },
 "nbformat": 4,
 "nbformat_minor": 5
}
